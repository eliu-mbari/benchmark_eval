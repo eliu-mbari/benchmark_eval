{
 "cells": [
  {
   "cell_type": "code",
   "execution_count": 1,
   "id": "d972d6f4-b706-45d7-887d-c5f09e845810",
   "metadata": {},
   "outputs": [],
   "source": [
    "%%capture\n",
    "!pip install ultralytics\n",
    "import ultralytics\n",
    "ultralytics.checks()\n",
    "\n",
    "import os\n",
    "import glob\n"
   ]
  },
  {
   "cell_type": "code",
   "execution_count": null,
   "id": "9584d6af-ec95-48c2-ab81-967f04f77c71",
   "metadata": {},
   "outputs": [],
   "source": [
    "# SETTING VARIABLES\n",
    "\n",
    "# dimensions of frames\n",
    "img_width, img_height = 1920, 1080\n",
    "# video sequence name - \"simple_mid\", \"simple_ben\", \"difficult_mid\", \"difficult_ben\"\n",
    "vid_seq_name = \"difficult_mid\""
   ]
  },
  {
   "cell_type": "code",
   "execution_count": null,
   "id": "52700f6c",
   "metadata": {},
   "outputs": [],
   "source": [
    "# DEFINING FUNCTION\n",
    "import os\n",
    "import glob\n",
    "\n",
    "def yolo_to_mot(yolo_labels, output_mot):\n",
    "    # unnormalize labels\n",
    "    count = 0\n",
    "    frame_files = sorted(glob.glob(os.path.join(yolo_labels, \"*.txt\")))\n",
    "    with open(output_mot, \"w\") as out_file:\n",
    "        for file in frame_files:\n",
    "            name = os.path.basename(file).split(\".\")[0]\n",
    "            frame_idx = int(name.split(\"_\")[-1])\n",
    "            with open(file, \"r\") as f:\n",
    "                for line in f:\n",
    "                    parts = line.strip().split()\n",
    "                    if len(parts) != 6:\n",
    "                        print(f\"Skipping line in {file}: {line.strip()}\")\n",
    "                        count = count + 1\n",
    "                        continue\n",
    "                    class_id, x_center, y_center, width, height, track_id = map(float, line.strip().split())\n",
    "                    #calculate\n",
    "                    x = (x_center - width / 2) * img_width\n",
    "                    y = (y_center - height / 2) * img_height\n",
    "                    w = width * img_width\n",
    "                    h = height * img_height\n",
    "\n",
    "                    out_file.write(f\"{frame_idx}, {int(track_id)}, {x:.2f}, {y:.2f}, {w:.2f}, {h:.2f}, 1, 1, -1\\n\")\n",
    "    print(\"number of skipped lines: \", count)\n",
    "\n",
    "#set video path\n",
    "video_paths = {\n",
    "    \"simple_mid\": \"../videos/simple_mid/Midwater_simple_V4455_20221130T192123Z_prores.mov\",\n",
    "    \"simple_ben\": \"../videos/simple_ben/10s_Benthic_2_V4289_20200729T185027Z.mov\",\n",
    "    \"difficult_mid\": \"../videos/difficult_mid/Midwater_difficult_V4432_20220914T160635Z_prores.mov\",\n",
    "    \"difficult_ben\": \"../videos/difficult_ben/Benthic_1_V4277_20200219T211238Z.mov\"\n",
    "}\n",
    "vid_path = video_paths.get(vid_seq_name)\n",
    "if vid_path is None: raise ValueError(f\"invalid name: {vid_seq_name}\")"
   ]
  },
  {
   "cell_type": "code",
   "execution_count": null,
   "id": "28e9b45e",
   "metadata": {},
   "outputs": [
    {
     "name": "stdout",
     "output_type": "stream",
     "text": [
      "number of skipped lines:  0\n"
     ]
    }
   ],
   "source": [
    "# MODEL + TRACKER\n",
    "from ultralytics import YOLO\n",
    "\n",
    "# Load a model\n",
    "model = YOLO('/Users/eliu/Desktop/mbari_452k_yolov8.pt')\n",
    "results = model.track(source=vid_path,\n",
    "                # tracker=\"/Users/eliu/Desktop/bytetrack_kwalz_settings.yaml\",\n",
    "                tracker=\"bytetrack.yaml\", \n",
    "                line_width=1,\n",
    "                agnostic_nms=True,\n",
    "                #save_crop=True,\n",
    "                #save_conf=True,\n",
    "                save_txt=True,\n",
    "                save=True,\n",
    "                #save_frames=True,\n",
    "                conf=0.025,\n",
    "                iou=0.4,\n",
    "                half=True,\n",
    "                device='mps',\n",
    "                #vid_stride=60,\n",
    "                #show=True,\n",
    "                #visualize=True,\n",
    "                #stream=True,\n",
    "                imgsz=1280\n",
    "                )\n",
    "labels_dir = results[0].save_dir \n",
    "\n",
    "#paths\n",
    "yolo_labels = labels_dir + '/labels' # where the saved labels are\n",
    "output_mot = f\"./data/trackers/mot_challenge/MOT17-train/YOLOTracker/{vid_seq_name}.txt\" #where output motchallenge file will go\n",
    "\n",
    "yolo_to_mot(yolo_labels, output_mot)"
   ]
  },
  {
   "cell_type": "code",
   "execution_count": null,
   "id": "443150f0",
   "metadata": {},
   "outputs": [
    {
     "name": "stdout",
     "output_type": "stream",
     "text": [
      "number of skipped lines:  0\n"
     ]
    }
   ],
   "source": [
    "# GROUND TRUTH - adding track id to exported gt yolo txt files\n",
    "\n",
    "#gt paths\n",
    "input_folder = \"../temp/labels\"\n",
    "output_folder = \"../temp/labels_w_trackid\"\n",
    "os.makedirs(output_folder, exist_ok=True)\n",
    "\n",
    "#get all name files\n",
    "name_files = [f for f in os.listdir(input_folder) if f.endswith(\"_name.txt\")]\n",
    "for name_file in name_files:\n",
    "    #paths\n",
    "    base_file = name_file.replace(\"_name\", \"\")\n",
    "    name_file_path = os.path.join(input_folder, name_file)\n",
    "    base_file_path = os.path.join(input_folder, base_file)\n",
    "    output_file_path = os.path.join(output_folder, base_file)\n",
    "\n",
    "    # reading files\n",
    "    with open(name_file_path, \"r\") as f_name, open(base_file_path, \"r\") as f_base:\n",
    "        name_lines = f_name.readlines()\n",
    "        base_lines = f_base.readlines()\n",
    "\n",
    "    #make new files\n",
    "    with open(output_file_path, \"w\") as f_out:\n",
    "        for base_line, name_line in zip(base_lines, name_lines):\n",
    "            if base_line.strip() and name_line.strip():\n",
    "                # get track id\n",
    "                track_id = int(name_line.strip().rsplit(\"-\", 1)[-1])\n",
    "                # combine line + track id\n",
    "                f_out.write(base_line.strip() + f\" {track_id}\\n\")\n",
    "\n",
    "# gt paths\n",
    "yolo_labels = output_folder # where the saved labels are\n",
    "output_mot = f\"./data/gt/mot_challenge/MOT17-train/{vid_seq_name}/gt/gt.txt\" # where the motchallenge gt file will go\n",
    "\n",
    "#Converting format\n",
    "yolo_to_mot(yolo_labels, output_mot)"
   ]
  }
 ],
 "metadata": {
  "environment": {
   "kernel": "conda-root-py",
   "name": "workbench-notebooks.m109",
   "type": "gcloud",
   "uri": "gcr.io/deeplearning-platform-release/workbench-notebooks:m109"
  },
  "kernelspec": {
   "display_name": "trackeval-env",
   "language": "python",
   "name": "python3"
  },
  "language_info": {
   "codemirror_mode": {
    "name": "ipython",
    "version": 3
   },
   "file_extension": ".py",
   "mimetype": "text/x-python",
   "name": "python",
   "nbconvert_exporter": "python",
   "pygments_lexer": "ipython3",
   "version": "3.10.13"
  }
 },
 "nbformat": 4,
 "nbformat_minor": 5
}
